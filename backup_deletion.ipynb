{
 "cells": [
  {
   "cell_type": "markdown",
   "id": "a1a968a4",
   "metadata": {
    "pycharm": {
     "name": "#%% md\n"
    }
   },
   "source": [
    "# Backup Deletion"
   ]
  },
  {
   "cell_type": "code",
   "execution_count": null,
   "id": "45117989",
   "metadata": {
    "pycharm": {
     "name": "#%%\n"
    }
   },
   "outputs": [],
   "source": [
    "tes_var1 = 2"
   ]
  },
  {
   "cell_type": "markdown",
   "id": "59a9c548",
   "metadata": {
    "pycharm": {
     "name": "#%% md\n"
    }
   },
   "source": [
    "## Analysis 1 - Image Deletion"
   ]
  },
  {
   "cell_type": "markdown",
   "id": "448df214",
   "metadata": {
    "pycharm": {
     "name": "#%% md\n"
    }
   },
   "source": [
    "## Analysis 2 - Recovery Point Deletion"
   ]
  },
  {
   "cell_type": "markdown",
   "id": "1ab749ec",
   "metadata": {
    "pycharm": {
     "name": "#%% md\n"
    }
   },
   "source": [
    "## Analysis 3 - Snapshot Deletion"
   ]
  }
 ],
 "metadata": {
  "kernelspec": {
   "display_name": "Python 3 (ipykernel)",
   "language": "python",
   "name": "python3"
  },
  "language_info": {
   "codemirror_mode": {
    "name": "ipython",
    "version": 3
   },
   "file_extension": ".py",
   "mimetype": "text/x-python",
   "name": "python",
   "nbconvert_exporter": "python",
   "pygments_lexer": "ipython3",
   "version": "3.8.12"
  }
 },
 "nbformat": 4,
 "nbformat_minor": 5
}